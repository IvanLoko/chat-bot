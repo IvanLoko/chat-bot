{
  "cells": [
    {
      "cell_type": "code",
      "execution_count": 1,
      "metadata": {
        "colab": {
          "base_uri": "https://localhost:8080/"
        },
        "id": "489b9f0a",
        "outputId": "e33acdc9-8d1e-469a-89f3-53e5ad65152c"
      },
      "outputs": [
        {
          "output_type": "stream",
          "name": "stderr",
          "text": [
            "[nltk_data] Downloading package punkt to /root/nltk_data...\n",
            "[nltk_data]   Unzipping tokenizers/punkt.zip.\n"
          ]
        }
      ],
      "source": [
        "import string \n",
        "import re\n",
        "import itertools\n",
        "import numpy as np\n",
        "import pandas as pd \n",
        "import seaborn as sns\n",
        "import matplotlib.pyplot as plt\n",
        "import nltk\n",
        "nltk.download('punkt')\n",
        "\n",
        "from sklearn.model_selection import train_test_split\n",
        "from tensorflow.keras.preprocessing.sequence import pad_sequences\n",
        "from tensorflow.keras import Model \n",
        "from tensorflow.keras.layers import LSTM, Embedding, Dense, Bidirectional, Dropout, Input\n",
        "from tensorflow.keras.losses import SparseCategoricalCrossentropy\n",
        "from tensorflow.keras.callbacks import ModelCheckpoint\n",
        "from tensorflow.keras.models import load_model\n"
      ],
      "id": "489b9f0a"
    },
    {
      "cell_type": "code",
      "execution_count": 2,
      "metadata": {
        "colab": {
          "base_uri": "https://localhost:8080/"
        },
        "id": "ZDO_vjDMnlyp",
        "outputId": "da148eab-d22a-4ef1-d573-72567361a96c"
      },
      "outputs": [
        {
          "output_type": "stream",
          "name": "stdout",
          "text": [
            "Mounted at /content/drive\n"
          ]
        }
      ],
      "source": [
        "from google.colab import drive\n",
        "drive.mount('/content/drive')"
      ],
      "id": "ZDO_vjDMnlyp"
    },
    {
      "cell_type": "code",
      "execution_count": 3,
      "metadata": {
        "id": "77761359"
      },
      "outputs": [],
      "source": [
        "def clean_text(text):\n",
        "    '''Clean text by removing unnecessary characters and altering the format of words.'''\n",
        "    text = text.lower()\n",
        "    text = re.sub(r\"i'm\", \"i am\", text)\n",
        "    text = re.sub(r\"he's\", \"he is\", text)\n",
        "    text = re.sub(r\"she's\", \"she is\", text)\n",
        "    text = re.sub(r\"it's\", \"it is\", text)\n",
        "    text = re.sub(r\"that's\", \"that is\", text)\n",
        "    text = re.sub(r\"what's\", \"that is\", text)\n",
        "    text = re.sub(r\"where's\", \"where is\", text)\n",
        "    text = re.sub(r\"how's\", \"how is\", text)\n",
        "    text = re.sub(r\"\\'ll\", \" will\", text)\n",
        "    text = re.sub(r\"\\'ve\", \" have\", text)\n",
        "    text = re.sub(r\"\\'re\", \" are\", text)\n",
        "    text = re.sub(r\"\\'d\", \" would\", text)\n",
        "    text = re.sub(r\"\\'re\", \" are\", text)\n",
        "    text = re.sub(r\"won't\", \"will not\", text)\n",
        "    text = re.sub(r\"can't\", \"cannot\", text)\n",
        "    text = re.sub(r\"n't\", \" not\", text)\n",
        "    text = re.sub(r\"n'\", \"ng\", text)\n",
        "    text = re.sub(r\"'bout\", \"about\", text)\n",
        "    text = re.sub(r\"'til\", \"until\", text)\n",
        "    text = re.sub(r\"[-()\\\"#/@;:<>{}`+=~|]\", \"\", text)\n",
        "    text = \" \".join(text.split())\n",
        "    return text"
      ],
      "id": "77761359"
    },
    {
      "cell_type": "code",
      "execution_count": 4,
      "metadata": {
        "id": "5c49ba7b",
        "colab": {
          "base_uri": "https://localhost:8080/",
          "height": 241
        },
        "outputId": "6dba63dc-ffa2-4e38-e834-c83d6ec52092"
      },
      "outputs": [
        {
          "output_type": "error",
          "ename": "FileNotFoundError",
          "evalue": "ignored",
          "traceback": [
            "\u001b[0;31m---------------------------------------------------------------------------\u001b[0m",
            "\u001b[0;31mFileNotFoundError\u001b[0m                         Traceback (most recent call last)",
            "\u001b[0;32m<ipython-input-4-65a4d0a6a087>\u001b[0m in \u001b[0;36m<module>\u001b[0;34m()\u001b[0m\n\u001b[0;32m----> 1\u001b[0;31m \u001b[0;32mwith\u001b[0m \u001b[0mopen\u001b[0m\u001b[0;34m(\u001b[0m\u001b[0;34m'/content/movie_lines.txt'\u001b[0m\u001b[0;34m,\u001b[0m \u001b[0;34m'r'\u001b[0m\u001b[0;34m,\u001b[0m \u001b[0mencoding\u001b[0m\u001b[0;34m=\u001b[0m\u001b[0;34m'cp1252'\u001b[0m\u001b[0;34m)\u001b[0m \u001b[0;32mas\u001b[0m \u001b[0mmovie_lines\u001b[0m\u001b[0;34m:\u001b[0m\u001b[0;34m\u001b[0m\u001b[0;34m\u001b[0m\u001b[0m\n\u001b[0m\u001b[1;32m      2\u001b[0m     \u001b[0mlines\u001b[0m \u001b[0;34m=\u001b[0m \u001b[0mmovie_lines\u001b[0m\u001b[0;34m.\u001b[0m\u001b[0mread\u001b[0m\u001b[0;34m(\u001b[0m\u001b[0;34m)\u001b[0m\u001b[0;34m.\u001b[0m\u001b[0msplit\u001b[0m\u001b[0;34m(\u001b[0m\u001b[0;34m'\\n'\u001b[0m\u001b[0;34m)\u001b[0m\u001b[0;34m\u001b[0m\u001b[0;34m\u001b[0m\u001b[0m\n\u001b[1;32m      3\u001b[0m \u001b[0;34m\u001b[0m\u001b[0m\n\u001b[1;32m      4\u001b[0m \u001b[0mmovie_line_dict\u001b[0m \u001b[0;34m=\u001b[0m \u001b[0;34m{\u001b[0m\u001b[0;34m}\u001b[0m\u001b[0;34m\u001b[0m\u001b[0;34m\u001b[0m\u001b[0m\n\u001b[1;32m      5\u001b[0m \u001b[0;32mfor\u001b[0m \u001b[0mline\u001b[0m \u001b[0;32min\u001b[0m \u001b[0mlines\u001b[0m\u001b[0;34m:\u001b[0m\u001b[0;34m\u001b[0m\u001b[0;34m\u001b[0m\u001b[0m\n",
            "\u001b[0;31mFileNotFoundError\u001b[0m: [Errno 2] No such file or directory: '/content/movie_lines.txt'"
          ]
        }
      ],
      "source": [
        "with open('/content/movie_lines.txt', 'r', encoding='cp1252') as movie_lines:\n",
        "    lines = movie_lines.read().split('\\n')\n",
        "    \n",
        "movie_line_dict = {}\n",
        "for line in lines:\n",
        "    text = line.split(' +++$+++ ')[-1]\n",
        "    index = line.split(' +++$+++ ')[0]\n",
        "    clean_line = clean_text(text)\n",
        "    tokinized_text = nltk.word_tokenize(clean_line)\n",
        "    movie_line_dict[index] = list(' '.join(tokinized_text))\n",
        "        \n",
        "\n",
        "with open('/content/movie_conversations.txt', 'r', encoding='cp1252') as movie_conversation:\n",
        "    lines = movie_conversation.read().split('\\n')\n",
        "movie_conversation_list = [line.split(' +++$+++ ')[-1][1:-1].replace(\"'\", '').split(', ') for line in lines]"
      ],
      "id": "5c49ba7b"
    },
    {
      "cell_type": "code",
      "execution_count": 5,
      "metadata": {
        "colab": {
          "base_uri": "https://localhost:8080/",
          "height": 241
        },
        "id": "b751fd4b",
        "outputId": "c31553c2-d1e3-4323-b84b-6320ab6c6dfb"
      },
      "outputs": [
        {
          "output_type": "error",
          "ename": "NameError",
          "evalue": "ignored",
          "traceback": [
            "\u001b[0;31m---------------------------------------------------------------------------\u001b[0m",
            "\u001b[0;31mNameError\u001b[0m                                 Traceback (most recent call last)",
            "\u001b[0;32m<ipython-input-5-e34e08925cdc>\u001b[0m in \u001b[0;36m<module>\u001b[0;34m()\u001b[0m\n\u001b[0;32m----> 1\u001b[0;31m \u001b[0mwords\u001b[0m \u001b[0;34m=\u001b[0m \u001b[0mlist\u001b[0m\u001b[0;34m(\u001b[0m\u001b[0;34m' '\u001b[0m\u001b[0;34m.\u001b[0m\u001b[0mjoin\u001b[0m\u001b[0;34m(\u001b[0m\u001b[0mlist\u001b[0m\u001b[0;34m(\u001b[0m\u001b[0mitertools\u001b[0m\u001b[0;34m.\u001b[0m\u001b[0mchain\u001b[0m\u001b[0;34m(\u001b[0m\u001b[0;34m*\u001b[0m\u001b[0mlist\u001b[0m\u001b[0;34m(\u001b[0m\u001b[0mmovie_line_dict\u001b[0m\u001b[0;34m.\u001b[0m\u001b[0mvalues\u001b[0m\u001b[0;34m(\u001b[0m\u001b[0;34m)\u001b[0m\u001b[0;34m)\u001b[0m\u001b[0;34m)\u001b[0m\u001b[0;34m)\u001b[0m\u001b[0;34m)\u001b[0m\u001b[0;34m)\u001b[0m\u001b[0;34m\u001b[0m\u001b[0;34m\u001b[0m\u001b[0m\n\u001b[0m\u001b[1;32m      2\u001b[0m \u001b[0mvalues\u001b[0m\u001b[0;34m,\u001b[0m \u001b[0mcount\u001b[0m \u001b[0;34m=\u001b[0m \u001b[0mnp\u001b[0m\u001b[0;34m.\u001b[0m\u001b[0munique\u001b[0m\u001b[0;34m(\u001b[0m\u001b[0mwords\u001b[0m\u001b[0;34m,\u001b[0m \u001b[0mreturn_counts\u001b[0m\u001b[0;34m=\u001b[0m\u001b[0;32mTrue\u001b[0m\u001b[0;34m)\u001b[0m\u001b[0;34m\u001b[0m\u001b[0;34m\u001b[0m\u001b[0m\n\u001b[1;32m      3\u001b[0m \u001b[0;34m\u001b[0m\u001b[0m\n\u001b[1;32m      4\u001b[0m \u001b[0mletters_df\u001b[0m \u001b[0;34m=\u001b[0m \u001b[0mpd\u001b[0m\u001b[0;34m.\u001b[0m\u001b[0mDataFrame\u001b[0m\u001b[0;34m(\u001b[0m\u001b[0;34m{\u001b[0m\u001b[0;34m'letter'\u001b[0m\u001b[0;34m:\u001b[0m \u001b[0mvalues\u001b[0m\u001b[0;34m,\u001b[0m \u001b[0;34m'count'\u001b[0m\u001b[0;34m:\u001b[0m \u001b[0mcount\u001b[0m\u001b[0;34m}\u001b[0m\u001b[0;34m)\u001b[0m\u001b[0;34m\u001b[0m\u001b[0;34m\u001b[0m\u001b[0m\n\u001b[1;32m      5\u001b[0m \u001b[0mletters_df\u001b[0m\u001b[0;34m.\u001b[0m\u001b[0msort_values\u001b[0m\u001b[0;34m(\u001b[0m\u001b[0;34m'count'\u001b[0m\u001b[0;34m,\u001b[0m \u001b[0mascending\u001b[0m \u001b[0;34m=\u001b[0m \u001b[0;32mFalse\u001b[0m\u001b[0;34m,\u001b[0m \u001b[0minplace\u001b[0m\u001b[0;34m=\u001b[0m\u001b[0;32mTrue\u001b[0m\u001b[0;34m)\u001b[0m\u001b[0;34m\u001b[0m\u001b[0;34m\u001b[0m\u001b[0m\n",
            "\u001b[0;31mNameError\u001b[0m: name 'movie_line_dict' is not defined"
          ]
        }
      ],
      "source": [
        "words = list(' '.join(list(itertools.chain(*list(movie_line_dict.values())))))\n",
        "values, count = np.unique(words, return_counts=True)\n",
        "\n",
        "letters_df = pd.DataFrame({'letter': values, 'count': count})\n",
        "letters_df.sort_values('count', ascending = False, inplace=True)\n",
        "fig, ax = plt.subplots(1, 2, figsize = (20,10))\n",
        "sns.barplot(data = letters_df.iloc[0:int(letters_df.shape[0]/2)],\n",
        "            y = 'letter',\n",
        "            x = 'count',\n",
        "            orient = 'h',\n",
        "            ax = ax[0])\n",
        "sns.barplot(data = letters_df.iloc[int(letters_df.shape[0]/2):],\n",
        "            y = 'letter',\n",
        "            x = 'count',\n",
        "            orient = 'h',\n",
        "            ax = ax[1])\n",
        "plt.show()"
      ],
      "id": "b751fd4b"
    },
    {
      "cell_type": "code",
      "execution_count": null,
      "metadata": {
        "id": "dff8be63"
      },
      "outputs": [],
      "source": [
        "letters = letters_df.iloc[:int(letters_df.shape[0]/2)+1].letter.values\n",
        "vocab = {item: i+4 for i, item in enumerate(letters)}\n",
        "vocab['<START>'] = 0\n",
        "vocab['<FINISH>'] = 3\n",
        "vocab['<PAD>'] = 2\n",
        "vocab['<UNK>'] = 1\n",
        "inv_vocab = {i: j for j, i in vocab.items()}\n",
        "VOCAB_SIZE = len(vocab)"
      ],
      "id": "dff8be63"
    },
    {
      "cell_type": "code",
      "execution_count": null,
      "metadata": {
        "id": "3f796b71"
      },
      "outputs": [],
      "source": [
        "def char2indx(text: np.array, dec_tar=False, dec_inp=False):\n",
        "    if dec_tar:\n",
        "        return np.array([vocab[i] if i in vocab.keys() else 1 for i in text] + [3])\n",
        "    if dec_inp:\n",
        "        return np.array([0] + [vocab[i] if i in vocab.keys() else 1 for i in text])\n",
        "    \n",
        "    return np.array([vocab[i] if i in vocab.keys() else 1 for i in text])\n",
        "\n",
        "def indx2char(mass: np.array):\n",
        "    return ''.join([inv_vocab[i] for i in mass])"
      ],
      "id": "3f796b71"
    },
    {
      "cell_type": "code",
      "execution_count": null,
      "metadata": {
        "id": "a4fc6b4d"
      },
      "outputs": [],
      "source": [
        "encoder_input, decoder_input, decoder_target  = [], [], []\n",
        "\n",
        "for conv in movie_conversation_list:\n",
        "    for line in range(len(conv)-1): \n",
        "        encoder_input.append(char2indx(movie_line_dict[conv[line]]))\n",
        "        decoder_input.append(char2indx(movie_line_dict[conv[line+1]], dec_inp= True))\n",
        "        decoder_target.append(char2indx(movie_line_dict[conv[line+1]], dec_tar= True))"
      ],
      "id": "a4fc6b4d"
    },
    {
      "cell_type": "code",
      "execution_count": null,
      "metadata": {
        "colab": {
          "base_uri": "https://localhost:8080/",
          "height": 432
        },
        "id": "4ba35ac6",
        "outputId": "c6202f11-59b0-45e5-f694-51f0c5741522",
        "scrolled": false
      },
      "outputs": [
        {
          "data": {
            "image/png": "[encoded data removed]",
            "text/plain": [
              "<Figure size 720x504 with 1 Axes>"
            ]
          },
          "metadata": {},
          "output_type": "display_data"
        }
      ],
      "source": [
        "ax = plt.figure(figsize=(10,7))\n",
        "plt.xlim(0, 1000)\n",
        "plt.ylim(0, 4000)\n",
        "\n",
        "sns.histplot([len(i) for i in encoder_input], bins = 40, color='r', alpha = .4, label = 'Encoder',)\n",
        "sns.histplot([len(i) for i in decoder_input], bins = 60, alpha =.4, label = 'Decoder')\n",
        "plt.legend()\n",
        "plt.show()"
      ],
      "id": "4ba35ac6"
    },
    {
      "cell_type": "code",
      "execution_count": null,
      "metadata": {
        "colab": {
          "base_uri": "https://localhost:8080/"
        },
        "id": "4152b458",
        "outputId": "7c75f72c-dad9-4908-c624-43e506ad39c1",
        "scrolled": true
      },
      "outputs": [
        {
          "name": "stdout",
          "output_type": "stream",
          "text": [
            "encoder_input_seqs shape:  (221616, 200)\n",
            "decoder_input_seqs shape:  (221616, 200)\n",
            "decoder_target_seqs shape:  (221616, 200)\n"
          ]
        }
      ],
      "source": [
        "MAX_LEN_SEQ = 200\n",
        "\n",
        "encoder_input_seqs = pad_sequences(\n",
        "    encoder_input,\n",
        "    value=vocab['<PAD>'],\n",
        "    padding='post',\n",
        "    truncating='post',\n",
        "    maxlen=MAX_LEN_SEQ)\n",
        "\n",
        "decoder_input_seqs = pad_sequences(\n",
        "    decoder_input,\n",
        "    value=vocab['<PAD>'],\n",
        "    padding='post',\n",
        "    truncating='post',\n",
        "    maxlen=MAX_LEN_SEQ)\n",
        "\n",
        "decoder_target_seqs = pad_sequences(\n",
        "    decoder_target,\n",
        "    value=vocab['<PAD>'],\n",
        "    padding='post',\n",
        "    truncating='post',\n",
        "    maxlen=MAX_LEN_SEQ)\n",
        "\n",
        "\n",
        "print('encoder_input_seqs shape: ', encoder_input_seqs.shape)\n",
        "print('decoder_input_seqs shape: ', decoder_input_seqs.shape)\n",
        "print('decoder_target_seqs shape: ', decoder_target_seqs.shape)"
      ],
      "id": "4152b458"
    },
    {
      "cell_type": "code",
      "execution_count": null,
      "metadata": {
        "colab": {
          "base_uri": "https://localhost:8080/"
        },
        "id": "070227df",
        "outputId": "7a9be3bc-da1b-45d6-a2c4-52fc5c99d5f3"
      },
      "outputs": [
        {
          "name": "stdout",
          "output_type": "stream",
          "text": [
            "encoder_input_seqs:\n",
            " no .<PAD><PAD><PAD><PAD><PAD><PAD><PAD><PAD><PAD><PAD><PAD><PAD><PAD><PAD><PAD><PAD><PAD><PAD><PAD><PAD><PAD><PAD><PAD><PAD><PAD><PAD><PAD><PAD><PAD><PAD><PAD><PAD><PAD><PAD><PAD><PAD><PAD><PAD><PAD><PAD><PAD><PAD><PAD><PAD><PAD><PAD><PAD><PAD><PAD><PAD><PAD><PAD><PAD><PAD><PAD><PAD><PAD><PAD><PAD><PAD><PAD><PAD><PAD><PAD><PAD><PAD><PAD><PAD><PAD><PAD><PAD><PAD><PAD><PAD><PAD><PAD><PAD><PAD><PAD><PAD><PAD><PAD><PAD><PAD><PAD><PAD><PAD><PAD><PAD><PAD><PAD><PAD><PAD><PAD><PAD><PAD><PAD><PAD><PAD><PAD><PAD><PAD><PAD><PAD><PAD><PAD><PAD><PAD><PAD><PAD><PAD><PAD><PAD><PAD><PAD><PAD><PAD><PAD><PAD><PAD><PAD><PAD><PAD><PAD><PAD><PAD><PAD><PAD><PAD><PAD><PAD><PAD><PAD><PAD><PAD><PAD><PAD><PAD><PAD><PAD><PAD><PAD><PAD><PAD><PAD><PAD><PAD><PAD><PAD><PAD><PAD><PAD><PAD><PAD><PAD><PAD><PAD><PAD><PAD><PAD><PAD><PAD><PAD><PAD><PAD><PAD><PAD><PAD><PAD><PAD><PAD><PAD><PAD><PAD><PAD><PAD><PAD><PAD><PAD><PAD><PAD><PAD><PAD><PAD><PAD><PAD><PAD><PAD><PAD><PAD><PAD><PAD><PAD><PAD><PAD><PAD>\n",
            "==============================\n",
            "decoder_input_seqs:\n",
            " <START>your mother came in about three in the afternoon . her neighbor drove her , on account of your father was on business in wichita . you were born a week early , but there were no complications . it wa\n",
            "==============================\n",
            "decoder_target_seqs:\n",
            " your mother came in about three in the afternoon . her neighbor drove her , on account of your father was on business in wichita . you were born a week early , but there were no complications . it was\n",
            "==============================\n"
          ]
        }
      ],
      "source": [
        "print('encoder_input_seqs:\\n', indx2char(encoder_input_seqs[10258]), end = '\\n==============================\\n')\n",
        "print('decoder_input_seqs:\\n', indx2char(decoder_input_seqs[10258]), end = '\\n==============================\\n')\n",
        "print('decoder_target_seqs:\\n', indx2char(decoder_target_seqs[10258]), end = '\\n==============================\\n')"
      ],
      "id": "070227df"
    },
    {
      "cell_type": "code",
      "execution_count": null,
      "metadata": {
        "id": "MPqs19D6tNqt"
      },
      "outputs": [],
      "source": [
        "len_seq = [sum([True for word in i if word != 2]) > 120 and sum([True for word in i if word != 2]) > 120 < 200 for i in decoder_target_seqs]\n",
        "\n",
        "encoder_input_seqs_trimmed = []\n",
        "decoder_input_seqs_trimmed = []\n",
        "decoder_target_seqs_trimmed = []\n",
        "\n",
        "for i in range(len(len_seq)):\n",
        "  if len_seq[i]:\n",
        "    encoder_input_seqs_trimmed.append(encoder_input_seqs[i]) \n",
        "    decoder_input_seqs_trimmed.append(decoder_input_seqs[i])\n",
        "    decoder_target_seqs_trimmed.append(decoder_target_seqs[i])\n",
        "\n",
        "encoder_input_seqs_trimmed = np.array(encoder_input_seqs_trimmed)\n",
        "decoder_input_seqs_trimmed = np.array(decoder_input_seqs_trimmed)\n",
        "decoder_target_seqs_trimmed = np.array(decoder_target_seqs_trimmed)"
      ],
      "id": "MPqs19D6tNqt"
    },
    {
      "cell_type": "code",
      "execution_count": null,
      "metadata": {
        "colab": {
          "base_uri": "https://localhost:8080/"
        },
        "id": "-b_HJVwsvr5x",
        "outputId": "228b5ffa-dc91-40c3-c2bc-d154931b90c2"
      },
      "outputs": [
        {
          "name": "stdout",
          "output_type": "stream",
          "text": [
            "encoder_input_seqs:\n",
            " that is true<PAD><PAD><PAD><PAD><PAD><PAD><PAD><PAD><PAD><PAD><PAD><PAD><PAD><PAD><PAD><PAD><PAD><PAD><PAD><PAD><PAD><PAD><PAD><PAD><PAD><PAD><PAD><PAD><PAD><PAD><PAD><PAD><PAD><PAD><PAD><PAD><PAD><PAD><PAD><PAD><PAD><PAD><PAD><PAD><PAD><PAD><PAD><PAD><PAD><PAD><PAD><PAD><PAD><PAD><PAD><PAD><PAD><PAD><PAD><PAD><PAD><PAD><PAD><PAD><PAD><PAD><PAD><PAD><PAD><PAD><PAD><PAD><PAD><PAD><PAD><PAD><PAD><PAD><PAD><PAD><PAD><PAD><PAD><PAD><PAD><PAD><PAD><PAD><PAD><PAD><PAD><PAD><PAD><PAD><PAD><PAD><PAD><PAD><PAD><PAD><PAD><PAD><PAD><PAD><PAD><PAD><PAD><PAD><PAD><PAD><PAD><PAD><PAD><PAD><PAD><PAD><PAD><PAD><PAD><PAD><PAD><PAD><PAD><PAD><PAD><PAD><PAD><PAD><PAD><PAD><PAD><PAD><PAD><PAD><PAD><PAD><PAD><PAD><PAD><PAD><PAD><PAD><PAD><PAD><PAD><PAD><PAD><PAD><PAD><PAD><PAD><PAD><PAD><PAD><PAD><PAD><PAD><PAD><PAD><PAD><PAD><PAD><PAD><PAD><PAD><PAD><PAD><PAD><PAD><PAD><PAD><PAD><PAD><PAD><PAD><PAD><PAD><PAD><PAD><PAD><PAD><PAD><PAD><PAD><PAD><PAD><PAD><PAD>\n",
            "==============================\n",
            "decoder_input_seqs:\n",
            " <START>there is no other purpose for this mission than to carry out a continuation of the space program , and to further our general knowledge of the planets . is that true ?<PAD><PAD><PAD><PAD><PAD><PAD><PAD><PAD><PAD><PAD><PAD><PAD><PAD><PAD><PAD><PAD><PAD><PAD><PAD><PAD><PAD><PAD><PAD><PAD><PAD><PAD><PAD><PAD><PAD><PAD><PAD><PAD>\n",
            "==============================\n",
            "decoder_target_seqs:\n",
            " there is no other purpose for this mission than to carry out a continuation of the space program , and to further our general knowledge of the planets . is that true ?<FINISH><PAD><PAD><PAD><PAD><PAD><PAD><PAD><PAD><PAD><PAD><PAD><PAD><PAD><PAD><PAD><PAD><PAD><PAD><PAD><PAD><PAD><PAD><PAD><PAD><PAD><PAD><PAD><PAD><PAD><PAD><PAD><PAD>\n",
            "==============================\n"
          ]
        }
      ],
      "source": [
        "print('encoder_input_seqs:\\n', indx2char(encoder_input_seqs_trimmed[100]), end = '\\n==============================\\n')\n",
        "print('decoder_input_seqs:\\n', indx2char(decoder_input_seqs_trimmed[100]), end = '\\n==============================\\n')\n",
        "print('decoder_target_seqs:\\n', indx2char(decoder_target_seqs_trimmed[100]), end = '\\n==============================\\n')"
      ],
      "id": "-b_HJVwsvr5x"
    },
    {
      "cell_type": "code",
      "execution_count": null,
      "metadata": {
        "colab": {
          "base_uri": "https://localhost:8080/"
        },
        "id": "9MfiBU7sNExR",
        "outputId": "62c5d62f-1887-45d6-fd41-dffea8bb3f70"
      },
      "outputs": [
        {
          "name": "stdout",
          "output_type": "stream",
          "text": [
            "data_enc shape:  (4935, 200)\n",
            "data_dec_tar shape:  (4935, 200)\n",
            "data_dec_inp shape:  (4935, 200)\n"
          ]
        }
      ],
      "source": [
        "data_enc, _, data_dec_tar, _, data_dec_inp, _ = train_test_split(\n",
        "    *(encoder_input_seqs_trimmed, decoder_input_seqs_trimmed, decoder_target_seqs_trimmed,\n",
        "    ),\n",
        "    train_size = 0.2)\n",
        "\n",
        "print('data_enc shape: ', data_enc.shape)\n",
        "print('data_dec_tar shape: ', data_dec_tar.shape)\n",
        "print('data_dec_inp shape: ', data_dec_inp.shape)"
      ],
      "id": "9MfiBU7sNExR"
    },
    {
      "cell_type": "code",
      "execution_count": null,
      "metadata": {
        "colab": {
          "base_uri": "https://localhost:8080/"
        },
        "id": "E-pKhPjKSlJH",
        "outputId": "820cfa40-20db-4a9d-ecf8-82ff7094b71d"
      },
      "outputs": [
        {
          "name": "stdout",
          "output_type": "stream",
          "text": [
            "enx_train shape:  (4441, 200)\n",
            "enx_val shape:  (494, 200)\n",
            "dec_tar_train shape:  (4441, 200)\n",
            "dec_tar_val shape:  (494, 200)\n",
            "dec_inp_train shape:  (4441, 200)\n",
            "dec_inp_train shape:  (4441, 200)\n"
          ]
        }
      ],
      "source": [
        "enc_train, enc_val, dec_tar_train, dec_tar_val, dec_inp_train, dec_inp_val = train_test_split(\n",
        "    *(data_enc, data_dec_tar,data_dec_inp),\n",
        "    train_size = 0.9)\n",
        "\n",
        "print('enx_train shape: ', enc_train.shape)\n",
        "print('enx_val shape: ', enc_val.shape)\n",
        "print('dec_tar_train shape: ', dec_tar_train.shape)\n",
        "print('dec_tar_val shape: ', dec_tar_val.shape)\n",
        "print('dec_inp_train shape: ', dec_inp_train.shape)\n",
        "print('dec_inp_val shape: ', dec_inp_val.shape)\n"
      ],
      "id": "E-pKhPjKSlJH"
    },
    {
      "cell_type": "code",
      "execution_count": null,
      "metadata": {
        "id": "e7070d86"
      },
      "outputs": [],
      "source": [
        "EMB_SIZE = 256\n",
        "H_SIZE = 512\n",
        "\n",
        "\n",
        "class Encoder(Model):\n",
        "    def __init__(self):\n",
        "        super().__init__()\n",
        "        self.emb = Embedding(VOCAB_SIZE, EMB_SIZE)\n",
        "        self.lstm = LSTM(H_SIZE, return_sequences = False, return_state = True)\n",
        "\n",
        "    def call(self, inp):\n",
        "        out = self.emb(inp)\n",
        "        _, h, c = self.lstm(out)\n",
        "        return (h, c)\n",
        "    \n",
        "class Decoder(Model):\n",
        "    def __init__(self):\n",
        "        super().__init__()\n",
        "        self.emb = Embedding(VOCAB_SIZE, EMB_SIZE)\n",
        "        self.lstm = LSTM(H_SIZE, return_sequences = True, return_state = True)\n",
        "        self.fc = Dense(VOCAB_SIZE, activation = 'softmax')\n",
        "        \n",
        "    def call(self, inp, init_state):\n",
        "        out = self.emb(inp)\n",
        "        out, h, c = self.lstm(out, initial_state = init_state)\n",
        "        out = self.fc(out)\n",
        "        return out, (h, c)\n",
        "    \n",
        "\n",
        "encoder = Encoder()\n",
        "decoder = Decoder()\n",
        "        \n",
        "        \n",
        "encoder_inputs = Input(shape = (None,) )\n",
        "decoder_inputs = Input(shape = (None,) )\n",
        "\n",
        "enc_state = encoder(encoder_inputs)\n",
        "decoder_outputs, _ = decoder(decoder_inputs, enc_state)\n",
        "\n",
        "model = Model([encoder_inputs, decoder_inputs], decoder_outputs)"
      ],
      "id": "e7070d86"
    },
    {
      "cell_type": "code",
      "execution_count": null,
      "metadata": {
        "colab": {
          "background_save": true,
          "base_uri": "https://localhost:8080/"
        },
        "id": "75c97c70",
        "outputId": "c629336f-b7af-466d-be68-0abd128fc23f"
      },
      "outputs": [
        {
          "name": "stdout",
          "output_type": "stream",
          "text": [
            "Epoch 1/50\n",
            "9/9 [==============================] - 400s 42s/step - loss: 3.7734 - accuracy: 0.2895 - val_loss: 3.3014 - val_accuracy: 0.3084\n",
            "Epoch 2/50\n",
            "9/9 [==============================] - 366s 41s/step - loss: 3.0227 - accuracy: 0.3125 - val_loss: 2.6916 - val_accuracy: 0.3230\n",
            "Epoch 3/50\n",
            "9/9 [==============================] - 365s 41s/step - loss: 2.5648 - accuracy: 0.3368 - val_loss: 2.4833 - val_accuracy: 0.3359\n",
            "Epoch 4/50\n",
            "9/9 [==============================] - 365s 41s/step - loss: 2.4276 - accuracy: 0.3449 - val_loss: 2.4237 - val_accuracy: 0.3412\n",
            "Epoch 5/50\n",
            "9/9 [==============================] - 367s 41s/step - loss: 2.3885 - accuracy: 0.3480 - val_loss: 2.3904 - val_accuracy: 0.3431\n",
            "Epoch 6/50\n",
            "9/9 [==============================] - 368s 41s/step - loss: 2.3570 - accuracy: 0.3487 - val_loss: 2.3607 - val_accuracy: 0.3457\n",
            "Epoch 7/50\n",
            "9/9 [==============================] - 369s 41s/step - loss: 2.3192 - accuracy: 0.3500 - val_loss: 2.3143 - val_accuracy: 0.3466\n",
            "Epoch 8/50\n",
            "9/9 [==============================] - 369s 41s/step - loss: 2.2599 - accuracy: 0.3513 - val_loss: 2.2269 - val_accuracy: 0.3501\n",
            "Epoch 9/50\n",
            "9/9 [==============================] - 371s 41s/step - loss: 2.1567 - accuracy: 0.3728 - val_loss: 2.0814 - val_accuracy: 0.3704\n",
            "Epoch 10/50\n",
            "9/9 [==============================] - 368s 41s/step - loss: 1.9606 - accuracy: 0.4328 - val_loss: 1.8136 - val_accuracy: 0.5100\n",
            "Epoch 11/50\n",
            "9/9 [==============================] - 367s 41s/step - loss: 1.6588 - accuracy: 0.5607 - val_loss: 1.5068 - val_accuracy: 0.6249\n",
            "Epoch 12/50\n",
            "9/9 [==============================] - 367s 41s/step - loss: 1.3487 - accuracy: 0.6623 - val_loss: 1.1876 - val_accuracy: 0.7033\n",
            "Epoch 13/50\n",
            "9/9 [==============================] - 368s 41s/step - loss: 1.0603 - accuracy: 0.7325 - val_loss: 0.9168 - val_accuracy: 0.7809\n",
            "Epoch 14/50\n",
            "9/9 [==============================] - 367s 41s/step - loss: 0.8031 - accuracy: 0.8059 - val_loss: 0.6754 - val_accuracy: 0.8432\n",
            "Epoch 15/50\n",
            "9/9 [==============================] - 368s 41s/step - loss: 0.5835 - accuracy: 0.8710 - val_loss: 0.4821 - val_accuracy: 0.9009\n",
            "Epoch 16/50\n",
            "9/9 [==============================] - 368s 41s/step - loss: 0.4124 - accuracy: 0.9230 - val_loss: 0.3388 - val_accuracy: 0.9422\n",
            "Epoch 17/50\n",
            "9/9 [==============================] - 364s 40s/step - loss: 0.2879 - accuracy: 0.9546 - val_loss: 0.2366 - val_accuracy: 0.9646\n",
            "Epoch 18/50\n",
            "9/9 [==============================] - 367s 41s/step - loss: 0.2009 - accuracy: 0.9719 - val_loss: 0.1666 - val_accuracy: 0.9758\n",
            "Epoch 19/50\n",
            "9/9 [==============================] - 364s 40s/step - loss: 0.1424 - accuracy: 0.9813 - val_loss: 0.1201 - val_accuracy: 0.9851\n",
            "Epoch 20/50\n",
            "4/9 [============>.................] - ETA: 3:24 - loss: 0.1120 - accuracy: 0.9869"
          ]
        }
      ],
      "source": [
        "BATCH_SIZE = 512\n",
        "EPOCHS = 50\n",
        "\n",
        "callback = ModelCheckpoint(\n",
        "    '/content/drive/MyDrive/ChatBot',\n",
        "    save_weights_only=True,    \n",
        "    monitor='val_accuracy',\n",
        "    mode='max',\n",
        "    save_best_only=True\n",
        "    )\n",
        "\n",
        "loss = SparseCategoricalCrossentropy()\n",
        "model.compile(loss = loss, optimizer = 'adam', metrics = ['accuracy'])\n",
        "\n",
        "model.fit([enc_train, dec_inp_train],\n",
        "          dec_tar_train,\n",
        "          epochs = EPOCHS, \n",
        "          validation_data=([[enc_val, dec_inp_val]], dec_tar_val),\n",
        "          batch_size = BATCH_SIZE, \n",
        "          callbacks = [callback])"
      ],
      "id": "75c97c70"
    },
    {
      "cell_type": "code",
      "execution_count": null,
      "metadata": {
        "id": "e2310a90"
      },
      "outputs": [],
      "source": [
        "max_dec_seq_length = 200\n",
        "\n",
        "def seq2seq_inference(input_seq):\n",
        "    state = encoder(input_seq)\n",
        "\n",
        "    target_seq = np.array([[vocab['<START>']]])\n",
        "\n",
        "    decoded_sentence = ''\n",
        "    while True:\n",
        "        output_tokens, state = decoder(target_seq, state)\n",
        "\n",
        "        sampled_token_index = np.argmax(output_tokens[0, -1, :])\n",
        "        sampled_char = inv_vocab[sampled_token_index]\n",
        "        decoded_sentence += sampled_char\n",
        "\n",
        "        if len(decoded_sentence) > max_dec_seq_length:\n",
        "            print(sampled_char)\n",
        "            break\n",
        "\n",
        "        target_seq = np.array([[sampled_token_index]])\n",
        "\n",
        "    return decoded_sentence"
      ],
      "id": "e2310a90"
    },
    {
      "cell_type": "code",
      "execution_count": null,
      "metadata": {
        "colab": {
          "base_uri": "https://localhost:8080/",
          "height": 54
        },
        "id": "BeyMdUPn6912",
        "outputId": "e0559d25-8786-46d8-f0fd-7f50dfed366c"
      },
      "outputs": [
        {
          "name": "stdout",
          "output_type": "stream",
          "text": [
            " \n"
          ]
        },
        {
          "data": {
            "application/vnd.google.colaboratory.intrinsic+json": {
              "type": "string"
            },
            "text/plain": [
              "' '"
            ]
          },
          "execution_count": 65,
          "metadata": {},
          "output_type": "execute_result"
        }
      ],
      "source": [
        "input_mess = enc_train[0]\n",
        "state = encoder(input_seq)\n",
        "\n",
        "target_seq = np.array([[vocab['<START>']]])\n",
        "\n",
        "decoded_sentence = ''\n",
        "while True:\n",
        "    output_tokens, state = decoder(target_seq, state)\n",
        "\n",
        "    sampled_token_index = np.argmax(output_tokens[0, -1, :])\n",
        "    sampled_char = inv_vocab[sampled_token_index]\n",
        "    # print(np.argmax(output_tokens[0, -1, :]))\n",
        "    decoded_sentence += sampled_char\n",
        "\n",
        "    if sampled_char == '<END>' or len(decoded_sentence) > max_dec_seq_length:\n",
        "        print(sampled_char)\n",
        "        break\n",
        "\n",
        "    target_seq = np.array([[sampled_token_index]])\n",
        "\n"
      ],
      "id": "BeyMdUPn6912"
    },
    {
      "cell_type": "code",
      "execution_count": null,
      "metadata": {
        "colab": {
          "base_uri": "https://localhost:8080/"
        },
        "id": "3KrSxmWwHgXc",
        "outputId": "02d94df2-31b4-4d4b-b6e7-b493879d4ec9"
      },
      "outputs": [
        {
          "name": "stdout",
          "output_type": "stream",
          "text": [
            " \n",
            "-\n",
            "Input sentence: [18  7 16  4 17  7  4 10  7  6  4 11  8 28  5  4  6  7  4 26 13  7 28  5\n",
            "  4  8 10 18  6 11  9 10 21  4  6  7  4 11  5 13  4 15  2  2  2  2  2  2\n",
            "  2  2  2  2  2  2  2  2  2  2  2  2  2  2  2  2  2  2  2  2  2  2  2  2\n",
            "  2  2  2  2  2  2  2  2  2  2  2  2  2  2  2  2  2  2  2  2  2  2  2  2\n",
            "  2  2  2  2  2  2  2  2  2  2  2  2  2  2  2  2  2  2  2  2  2  2  2  2\n",
            "  2  2  2  2  2  2  2  2  2  2  2  2  2  2  2  2  2  2  2  2  2  2  2  2\n",
            "  2  2  2  2  2  2  2  2  2  2  2  2  2  2  2  2  2  2  2  2  2  2  2  2\n",
            "  2  2  2  2  2  2  2  2  2  2  2  2  2  2  2  2  2  2  2  2  2  2  2  2\n",
            "  2  2  2  2  2  2  2  2]\n",
            "Result sentence: <START>                                                                                                                                                                                                  \n",
            "Target sentence: [ 0  9  4  8 20  4 10  7  6  4 26 13  7 28  9 10 21  4  6  7  4 11  5 13\n",
            "  4 15  4  9  4  8 20  4 12 11  7 19  9 10 21  4 11  5 13  4 15  4  8 10\n",
            " 17  4  9  4 25 10  7 19  4  9  4 17  7  4 10  7  6  4 11  8 28  5  4  6\n",
            "  7  4 15  4  9  4 19  8 10  6  4  6  7  4 15  4  9  4 11  8 28  5  4 13\n",
            "  5  8 14  9 34  5 17  4 27  4 14  7 28  5  4  9 12  4  8 24  7 16  6  4\n",
            " 21  9 28  9 10 21  4 15  4  9  4  8 20  4  8 14  9 28  5  4 27  4  9  4\n",
            " 22  8 10  4 12  6  9 14 14  4 21  9 28  5  4  6  7  4 11  5 13  4 15  4\n",
            "  9  4 19  8 10  6  4  6  7  4 21  9 28  5  4 11  5 13  4  5 28  5 13 18\n",
            "  6 11  9 10 21  4  9  4]\n"
          ]
        }
      ],
      "source": [
        "seq = 111\n",
        "\n",
        "input_seq = enc_train[seq: (seq + 1)]\n",
        "decoded_sentence = seq2seq_inference(input_seq)\n",
        "print('-')\n",
        "print('Input sentence:', enc_train[seq])\n",
        "print('Result sentence:', decoded_sentence)\n",
        "print('Target sentence:', dec_tar_train[seq])"
      ],
      "id": "3KrSxmWwHgXc"
    }
  ],
  "metadata": {
    "colab": {
      "collapsed_sections": [],
      "name": "chatbot.ipynb",
      "provenance": []
    },
    "kernelspec": {
      "display_name": "Python 3 (ipykernel)",
      "language": "python",
      "name": "python3"
    },
    "language_info": {
      "codemirror_mode": {
        "name": "ipython",
        "version": 3
      },
      "file_extension": ".py",
      "mimetype": "text/x-python",
      "name": "python",
      "nbconvert_exporter": "python",
      "pygments_lexer": "ipython3",
      "version": "3.9.12"
    }
  },
  "nbformat": 4,
  "nbformat_minor": 5
}