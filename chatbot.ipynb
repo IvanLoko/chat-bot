{
 "cells": [
  {
   "cell_type": "code",
   "execution_count": 1,
   "id": "489b9f0a",
   "metadata": {
    "colab": {
     "base_uri": "https://localhost:8080/"
    },
    "id": "489b9f0a",
    "outputId": "c196d9cc-6f28-4b63-d56a-d7584b0f746a"
   },
   "outputs": [],
   "source": [
    "import string \n",
    "import re\n",
    "import itertools\n",
    "import numpy as np\n",
    "import pandas as pd \n",
    "import seaborn as sns\n",
    "import matplotlib.pyplot as plt\n",
    "import nltk\n",
    "\n",
    "from sklearn.model_selection import train_test_split\n",
    "from tensorflow.keras.preprocessing.sequence import pad_sequences\n",
    "from tensorflow.keras import Model \n",
    "from tensorflow.keras.layers import LSTM, Embedding, Dense, Bidirectional, Dropout, Input\n",
    "from tensorflow.keras.losses import SparseCategoricalCrossentropy\n",
    "from tensorflow.keras.callbacks import ModelCheckpoint\n"
   ]
  },
  {
   "cell_type": "code",
   "execution_count": 2,
   "id": "77761359",
   "metadata": {
    "id": "77761359"
   },
   "outputs": [],
   "source": [
    "def clean_text(text):\n",
    "    '''Clean text by removing unnecessary characters and altering the format of words.'''\n",
    "    text = text.lower()\n",
    "    text = re.sub(r\"i'm\", \"i am\", text)\n",
    "    text = re.sub(r\"he's\", \"he is\", text)\n",
    "    text = re.sub(r\"she's\", \"she is\", text)\n",
    "    text = re.sub(r\"it's\", \"it is\", text)\n",
    "    text = re.sub(r\"that's\", \"that is\", text)\n",
    "    text = re.sub(r\"what's\", \"that is\", text)\n",
    "    text = re.sub(r\"where's\", \"where is\", text)\n",
    "    text = re.sub(r\"how's\", \"how is\", text)\n",
    "    text = re.sub(r\"\\'ll\", \" will\", text)\n",
    "    text = re.sub(r\"\\'ve\", \" have\", text)\n",
    "    text = re.sub(r\"\\'re\", \" are\", text)\n",
    "    text = re.sub(r\"\\'d\", \" would\", text)\n",
    "    text = re.sub(r\"\\'re\", \" are\", text)\n",
    "    text = re.sub(r\"won't\", \"will not\", text)\n",
    "    text = re.sub(r\"can't\", \"cannot\", text)\n",
    "    text = re.sub(r\"n't\", \" not\", text)\n",
    "    text = re.sub(r\"n'\", \"ng\", text)\n",
    "    text = re.sub(r\"'bout\", \"about\", text)\n",
    "    text = re.sub(r\"'til\", \"until\", text)\n",
    "    text = re.sub(r\"[-()\\\"#/@;:<>{}`+=~|]\", \"\", text)\n",
    "    text = \" \".join(text.split())\n",
    "    return text"
   ]
  },
  {
   "cell_type": "code",
   "execution_count": 82,
   "id": "5c49ba7b",
   "metadata": {
    "id": "5c49ba7b"
   },
   "outputs": [],
   "source": [
    "with open('./ChatBot_Dataset/movie_lines.txt', 'r', encoding='cp1252') as movie_lines:\n",
    "    lines = movie_lines.read().split('\\n')\n",
    "    \n",
    "movie_line_dict = {}\n",
    "for line in lines:\n",
    "    text = line.split(' +++$+++ ')[-1]\n",
    "    index = line.split(' +++$+++ ')[0]\n",
    "    clean_line = clean_text(text)\n",
    "    tokinized_text = nltk.word_tokenize(clean_line)\n",
    "    movie_line_dict[index] = list(' '.join(tokinized_text))\n",
    "        \n",
    "# movie_line_dict = {line.split(' +++$+++ ')[0]: nltk.word_tokenize(line.split(' +++$+++ ')[-1]) for line in lines}\n",
    "\n",
    "with open('./ChatBot_Dataset/movie_conversations.txt', 'r', encoding='cp1252') as movie_conversation:\n",
    "    lines = movie_conversation.read().split('\\n')\n",
    "movie_conversation_list = [line.split(' +++$+++ ')[-1][1:-1].replace(\"'\", '').split(', ') for line in lines]"
   ]
  },
  {
   "cell_type": "code",
   "execution_count": 58,
   "id": "b751fd4b",
   "metadata": {
    "id": "b751fd4b"
   },
   "outputs": [
    {
     "data": {
      "text/plain": [
       "<AxesSubplot:xlabel='count', ylabel='letter'>"
      ]
     },
     "execution_count": 58,
     "metadata": {},
     "output_type": "execute_result"
    },
    {
     "data": {
      "image/png": "[encoded data removed]",
      "text/plain": [
       "<Figure size 1440x720 with 2 Axes>"
      ]
     },
     "metadata": {
      "needs_background": "light"
     },
     "output_type": "display_data"
    }
   ],
   "source": [
    "# words = list(' '.join(list(itertools.chain(*list(movie_line_dict.values())))))\n",
    "# values, count = np.unique(words, return_counts=True)\n",
    "\n",
    "# letters_df = pd.DataFrame({'letter': values, 'count': count})\n",
    "# letters_df.sort_values('count', ascending = False, inplace=True)\n",
    "fig, ax = plt.subplots(1, 2, figsize = (20,10))\n",
    "sns.barplot(data = letters_df.iloc[0:int(letters_df.shape[0]/2)],\n",
    "            y = 'letter',\n",
    "            x = 'count',\n",
    "            orient = 'h',\n",
    "            ax = ax[0])\n",
    "sns.barplot(data = letters_df.iloc[int(letters_df.shape[0]/2):],\n",
    "            y = 'letter',\n",
    "            x = 'count',\n",
    "            orient = 'h',\n",
    "            ax = ax[1])\n",
    "plt.show()"
   ]
  },
  {
   "cell_type": "code",
   "execution_count": 72,
   "id": "b96acb95",
   "metadata": {},
   "outputs": [],
   "source": [
    "letters = letters_df.iloc[:int(letters_df.shape[0]/2)+1].letter.values\n",
    "vocab = {item: i+4 for i, item in enumerate(letters)}\n",
    "vocab['<START>'] = 0\n",
    "vocab['<FINISH>'] = 3\n",
    "vocab['<PAD>'] = 2\n",
    "vocab['<UNK>'] = 1\n",
    "inv_vocab = {i: j for j, i in vocab.items()}\n",
    "VOCAB_SIZE = len(vocab)"
   ]
  },
  {
   "cell_type": "code",
   "execution_count": 94,
   "id": "3f796b71",
   "metadata": {
    "id": "3f796b71"
   },
   "outputs": [],
   "source": [
    "def char2indx(text: np.array, dec_tar=False, dec_inp=False):\n",
    "    if dec_tar:\n",
    "        return np.array([vocab[i] if i in vocab.keys() else 1 for i in text] + [3])\n",
    "    if dec_inp:\n",
    "        return np.array([0] + [vocab[i] if i in vocab.keys() else 1 for i in text])\n",
    "    \n",
    "    return np.array([vocab[i] if i in vocab.keys() else 1 for i in text])\n",
    "\n",
    "def indx2char(mass: np.array):\n",
    "    return ''.join([inv_vocab[i] for i in mass])"
   ]
  },
  {
   "cell_type": "code",
   "execution_count": 86,
   "id": "a4fc6b4d",
   "metadata": {
    "id": "a4fc6b4d"
   },
   "outputs": [],
   "source": [
    "encoder_input, decoder_input, decoder_target  = [], [], []\n",
    "\n",
    "for conv in movie_conversation_list:\n",
    "    for line in range(len(conv)-1): \n",
    "        encoder_input.append(char2indx(movie_line_dict[conv[line]]))\n",
    "        decoder_input.append(char2indx(movie_line_dict[conv[line+1]], dec_inp= True))\n",
    "        decoder_target.append(char2indx(movie_line_dict[conv[line+1]], dec_tar= True))"
   ]
  },
  {
   "cell_type": "code",
   "execution_count": 112,
   "id": "4ba35ac6",
   "metadata": {
    "colab": {
     "base_uri": "https://localhost:8080/",
     "height": 428
    },
    "id": "4ba35ac6",
    "outputId": "a50a8a79-b085-43ae-ab81-8ef020d80ebc",
    "scrolled": false
   },
   "outputs": [
    {
     "data": {
      "image/png": "[encoded data removed]",
      "text/plain": [
       "<Figure size 720x504 with 1 Axes>"
      ]
     },
     "metadata": {
      "needs_background": "light"
     },
     "output_type": "display_data"
    }
   ],
   "source": [
    "ax = plt.figure(figsize=(10,7))\n",
    "plt.xlim(0, 1000)\n",
    "plt.ylim(0, 4000)\n",
    "\n",
    "sns.histplot([len(i) for i in encoder_input], bins = 40, color='r', alpha = .4, label = 'Encoder',)\n",
    "sns.histplot([len(i) for i in decoder_input], bins = 60, alpha =.4, label = 'Decoder')\n",
    "plt.legend()\n",
    "plt.show()"
   ]
  },
  {
   "cell_type": "code",
   "execution_count": 113,
   "id": "4152b458",
   "metadata": {
    "colab": {
     "base_uri": "https://localhost:8080/"
    },
    "id": "4152b458",
    "outputId": "2fa1f4f7-835a-428d-a84d-5402defab71e",
    "scrolled": true
   },
   "outputs": [
    {
     "name": "stdout",
     "output_type": "stream",
     "text": [
      "encoder_input_seqs shape:  (221616, 200)\n",
      "decoder_input_seqs shape:  (221616, 200)\n",
      "decoder_target_seqs shape:  (221616, 200)\n"
     ]
    }
   ],
   "source": [
    "MAX_LEN_SEQ = 200\n",
    "\n",
    "encoder_input_seqs = pad_sequences(\n",
    "    encoder_input,\n",
    "    value=vocab['<PAD>'],\n",
    "    padding='post',\n",
    "    truncating='post',\n",
    "    maxlen=MAX_LEN_SEQ)\n",
    "\n",
    "decoder_input_seqs = pad_sequences(\n",
    "    decoder_input,\n",
    "    value=vocab['<PAD>'],\n",
    "    padding='post',\n",
    "    truncating='post',\n",
    "    maxlen=MAX_LEN_SEQ)\n",
    "\n",
    "decoder_target_seqs = pad_sequences(\n",
    "    decoder_target,\n",
    "    value=vocab['<PAD>'],\n",
    "    padding='post',\n",
    "    truncating='post',\n",
    "    maxlen=MAX_LEN_SEQ)\n",
    "\n",
    "\n",
    "print('encoder_input_seqs shape: ', encoder_input_seqs.shape)\n",
    "print('decoder_input_seqs shape: ', decoder_input_seqs.shape)\n",
    "print('decoder_target_seqs shape: ', decoder_target_seqs.shape)"
   ]
  },
  {
   "cell_type": "code",
   "execution_count": 114,
   "id": "070227df",
   "metadata": {
    "colab": {
     "base_uri": "https://localhost:8080/"
    },
    "id": "070227df",
    "outputId": "fb380104-7c76-4074-cc4b-fc9cb3c973fc"
   },
   "outputs": [
    {
     "name": "stdout",
     "output_type": "stream",
     "text": [
      "encoder_input_seqs:\n",
      " no .<PAD><PAD><PAD><PAD><PAD><PAD><PAD><PAD><PAD><PAD><PAD><PAD><PAD><PAD><PAD><PAD><PAD><PAD><PAD><PAD><PAD><PAD><PAD><PAD><PAD><PAD><PAD><PAD><PAD><PAD><PAD><PAD><PAD><PAD><PAD><PAD><PAD><PAD><PAD><PAD><PAD><PAD><PAD><PAD><PAD><PAD><PAD><PAD><PAD><PAD><PAD><PAD><PAD><PAD><PAD><PAD><PAD><PAD><PAD><PAD><PAD><PAD><PAD><PAD><PAD><PAD><PAD><PAD><PAD><PAD><PAD><PAD><PAD><PAD><PAD><PAD><PAD><PAD><PAD><PAD><PAD><PAD><PAD><PAD><PAD><PAD><PAD><PAD><PAD><PAD><PAD><PAD><PAD><PAD><PAD><PAD><PAD><PAD><PAD><PAD><PAD><PAD><PAD><PAD><PAD><PAD><PAD><PAD><PAD><PAD><PAD><PAD><PAD><PAD><PAD><PAD><PAD><PAD><PAD><PAD><PAD><PAD><PAD><PAD><PAD><PAD><PAD><PAD><PAD><PAD><PAD><PAD><PAD><PAD><PAD><PAD><PAD><PAD><PAD><PAD><PAD><PAD><PAD><PAD><PAD><PAD><PAD><PAD><PAD><PAD><PAD><PAD><PAD><PAD><PAD><PAD><PAD><PAD><PAD><PAD><PAD><PAD><PAD><PAD><PAD><PAD><PAD><PAD><PAD><PAD><PAD><PAD><PAD><PAD><PAD><PAD><PAD><PAD><PAD><PAD><PAD><PAD><PAD><PAD><PAD><PAD><PAD><PAD><PAD><PAD><PAD><PAD><PAD><PAD><PAD><PAD>\n",
      "==============================\n",
      "decoder_input_seqs:\n",
      " <START>your mother came in about three in the afternoon . her neighbor drove her , on account of your father was on business in wichita . you were born a week early , but there were no complications . it wa\n",
      "==============================\n",
      "decoder_target_seqs:\n",
      " your mother came in about three in the afternoon . her neighbor drove her , on account of your father was on business in wichita . you were born a week early , but there were no complications . it was\n",
      "==============================\n"
     ]
    }
   ],
   "source": [
    "print('encoder_input_seqs:\\n', indx2char(encoder_input_seqs[10258]), end = '\\n==============================\\n')\n",
    "print('decoder_input_seqs:\\n', indx2char(decoder_input_seqs[10258]), end = '\\n==============================\\n')\n",
    "print('decoder_target_seqs:\\n', indx2char(decoder_target_seqs[10258]), end = '\\n==============================\\n')"
   ]
  },
  {
   "cell_type": "code",
   "execution_count": 115,
   "id": "9MfiBU7sNExR",
   "metadata": {
    "colab": {
     "base_uri": "https://localhost:8080/"
    },
    "id": "9MfiBU7sNExR",
    "outputId": "033e6099-1bb5-4afa-c421-c3f58c1bcf11"
   },
   "outputs": [
    {
     "name": "stdout",
     "output_type": "stream",
     "text": [
      "data_enc shape:  (55404, 200)\n",
      "data_dec_tar shape:  (55404, 200)\n",
      "data_dec_inp shape:  (55404, 200)\n"
     ]
    }
   ],
   "source": [
    "data_enc, _, data_dec_tar, _, data_dec_inp, _ = train_test_split(\n",
    "    *(encoder_input_seqs, decoder_target_seqs, decoder_input_seqs,\n",
    "    ),\n",
    "    train_size = 0.25)\n",
    "\n",
    "print('data_enc shape: ', data_enc.shape)\n",
    "print('data_dec_tar shape: ', data_dec_tar.shape)\n",
    "print('data_dec_inp shape: ', data_dec_inp.shape)"
   ]
  },
  {
   "cell_type": "code",
   "execution_count": 117,
   "id": "E-pKhPjKSlJH",
   "metadata": {
    "colab": {
     "base_uri": "https://localhost:8080/"
    },
    "id": "E-pKhPjKSlJH",
    "outputId": "1f61ac65-1c7c-4db6-9757-c0d16860e60c"
   },
   "outputs": [
    {
     "name": "stdout",
     "output_type": "stream",
     "text": [
      "enx_train shape:  (49863, 200)\n",
      "enx_val shape:  (5541, 200)\n",
      "dec_tar_train shape:  (49863, 200)\n",
      "dec_tar_val shape:  (5541, 200)\n",
      "dec_inp_train shape:  (49863, 200)\n",
      "dec_inp_train shape:  (49863, 200)\n"
     ]
    }
   ],
   "source": [
    "enc_train, enc_val, dec_tar_train, dec_tar_val, dec_inp_train, dec_inp_val = train_test_split(\n",
    "    *(data_enc, data_dec_tar,data_dec_inp),\n",
    "    train_size = 0.9)\n",
    "\n",
    "print('enx_train shape: ', enc_train.shape)\n",
    "print('enx_val shape: ', enc_val.shape)\n",
    "print('dec_tar_train shape: ', dec_tar_train.shape)\n",
    "print('dec_tar_val shape: ', dec_tar_val.shape)\n",
    "print('dec_inp_train shape: ', dec_inp_train.shape)\n",
    "print('dec_inp_train shape: ', dec_inp_train.shape)\n"
   ]
  },
  {
   "cell_type": "code",
   "execution_count": 118,
   "id": "e7070d86",
   "metadata": {
    "id": "e7070d86"
   },
   "outputs": [],
   "source": [
    "EMB_SIZE = 256\n",
    "H_SIZE = 512\n",
    "\n",
    "\n",
    "class Encoder(Model):\n",
    "    def __init__(self):\n",
    "        super().__init__()\n",
    "        self.emb = Embedding(VOCAB_SIZE, EMB_SIZE)\n",
    "        self.lstm = LSTM(H_SIZE, return_sequences = False, return_state = True)\n",
    "\n",
    "    def call(self, inp):\n",
    "        out = self.emb(inp)\n",
    "        _, h, c = self.lstm(out)\n",
    "        return (h, c)\n",
    "    \n",
    "class Decoder(Model):\n",
    "    def __init__(self):\n",
    "        super().__init__()\n",
    "        self.emb = Embedding(VOCAB_SIZE, EMB_SIZE)\n",
    "        self.lstm = LSTM(H_SIZE, return_sequences = True, return_state = True)\n",
    "        self.fc = Dense(VOCAB_SIZE, activation = 'softmax')\n",
    "        \n",
    "    def call(self, inp, init_state):\n",
    "        out = self.emb(inp)\n",
    "        out, h, c = self.lstm(out, initial_state = init_state)\n",
    "        out = self.fc(out)\n",
    "        return out, (h, c)\n",
    "    \n",
    "\n",
    "encoder = Encoder()\n",
    "decoder = Decoder()\n",
    "        \n",
    "        \n",
    "encoder_inputs = Input(shape = (None,) )\n",
    "decoder_inputs = Input(shape = (None,) )\n",
    "\n",
    "enc_state = encoder(encoder_inputs)\n",
    "decoder_outputs, _ = decoder(decoder_inputs, enc_state)\n",
    "\n",
    "model = Model([encoder_inputs, decoder_inputs], decoder_outputs)"
   ]
  },
  {
   "cell_type": "code",
   "execution_count": 120,
   "id": "75c97c70",
   "metadata": {
    "colab": {
     "base_uri": "https://localhost:8080/"
    },
    "id": "75c97c70",
    "outputId": "579cdda3-0183-4722-8092-b06dc664c524"
   },
   "outputs": [],
   "source": [
    "# BATCH_SIZE = 256\n",
    "# EPOCHS = 10\n",
    "\n",
    "# callback = ModelCheckpoint(\n",
    "#     '/content/drive/MyDrive/ChatBot',\n",
    "#     save_weights_only=True,\n",
    "#     monitor='val_accuracy',\n",
    "#     mode='max',\n",
    "#     save_best_only=True\n",
    "#     )\n",
    "\n",
    "# loss = SparseCategoricalCrossentropy()\n",
    "# model.compile(loss = loss, optimizer = 'adam', metrics = ['accuracy'])\n",
    "\n",
    "# model.fit([enc_train, dec_inp_train],\n",
    "#           dec_tar_train,\n",
    "#           epochs = EPOCHS, \n",
    "#           validation_data=([[enc_val, dec_inp_val]], dec_tar_val),\n",
    "#           batch_size = BATCH_SIZE, \n",
    "#           callbacks = [callback])"
   ]
  },
  {
   "cell_type": "code",
   "execution_count": null,
   "id": "PWl3RsW_hzRK",
   "metadata": {
    "id": "PWl3RsW_hzRK"
   },
   "outputs": [],
   "source": []
  }
 ],
 "metadata": {
  "colab": {
   "collapsed_sections": [],
   "name": "chatbot.ipynb",
   "provenance": []
  },
  "kernelspec": {
   "display_name": "Python 3 (ipykernel)",
   "language": "python",
   "name": "python3"
  },
  "language_info": {
   "codemirror_mode": {
    "name": "ipython",
    "version": 3
   },
   "file_extension": ".py",
   "mimetype": "text/x-python",
   "name": "python",
   "nbconvert_exporter": "python",
   "pygments_lexer": "ipython3",
   "version": "3.9.12"
  }
 },
 "nbformat": 4,
 "nbformat_minor": 5
}
