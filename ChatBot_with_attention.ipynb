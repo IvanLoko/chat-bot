{
  "nbformat": 4,
  "nbformat_minor": 0,
  "metadata": {
    "colab": {
      "name": "ChatBot_with_attention.ipynb",
      "provenance": [],
      "collapsed_sections": []
    },
    "kernelspec": {
      "name": "python3",
      "display_name": "Python 3"
    },
    "language_info": {
      "name": "python"
    }
  },
  "cells": [
    {
      "cell_type": "code",
      "execution_count": null,
      "metadata": {
        "id": "mEJnam07CRF-"
      },
      "outputs": [],
      "source": [
        "# !pip install tensorflow_text\n",
        "import tensorflow as tf\n",
        "import tensorflow_text as tf_text\n",
        "import re \n",
        "from random import randint\n",
        "import numpy as np\n",
        "import matplotlib.pyplot as plt\n",
        "import typing"
      ]
    },
    {
      "cell_type": "code",
      "source": [
        "from google.colab import drive\n",
        "drive.mount('/content/drive')"
      ],
      "metadata": {
        "id": "aSErFeq3nPSF"
      },
      "execution_count": null,
      "outputs": []
    },
    {
      "cell_type": "code",
      "source": [
        "with open('/content/movie_lines.txt', 'r', encoding='cp1252') as movie_lines:\n",
        "    lines = movie_lines.read().split('\\n')\n",
        "    \n",
        "movie_line_dict = {}\n",
        "for line in lines:\n",
        "    text = line.split(' +++$+++ ')[-1]\n",
        "    index = line.split(' +++$+++ ')[0]\n",
        "\n",
        "    movie_line_dict[index] = text\n",
        "        \n",
        "\n",
        "with open('/content/movie_conversations.txt', 'r', encoding='cp1252') as movie_conversation:\n",
        "    lines = movie_conversation.read().split('\\n')\n",
        "movie_conversation_list = [line.split(' +++$+++ ')[-1][1:-1].replace(\"'\", '').split(', ') for line in lines]"
      ],
      "metadata": {
        "id": "wCtaUGjSC00f"
      },
      "execution_count": null,
      "outputs": []
    },
    {
      "cell_type": "code",
      "source": [
        "inp, targ  = [], []\n",
        "\n",
        "for conv in movie_conversation_list:\n",
        "    for line in range(len(conv)-1): \n",
        "        inp.append(movie_line_dict[conv[line]])\n",
        "        targ.append(movie_line_dict[conv[line+1]])"
      ],
      "metadata": {
        "id": "l-q09GTaDLV_"
      },
      "execution_count": null,
      "outputs": []
    },
    {
      "cell_type": "code",
      "source": [
        "i = randint(0, len(inp))\n",
        "print(f'Input_example: {inp[i]}')\n",
        "print(f'Target example: {targ[i]}')"
      ],
      "metadata": {
        "colab": {
          "base_uri": "https://localhost:8080/"
        },
        "id": "TlCwS1fBDqts",
        "outputId": "c043c97e-3e0d-414a-9b0b-22c2acb6e84a"
      },
      "execution_count": null,
      "outputs": [
        {
          "output_type": "stream",
          "name": "stdout",
          "text": [
            "Input_example: Oh, sure.  Here, this can be mommy.\n",
            "Target example: Do you like to be with your mommy?\n"
          ]
        }
      ]
    },
    {
      "cell_type": "code",
      "source": [
        "def tf_lower_and_split_punct(text):\n",
        "  # Split accecented characters.\n",
        "  text = tf.strings.lower(text)\n",
        "  # Keep space, a to z, and select punctuation.\n",
        "  text = tf.strings.regex_replace(text, '[^ a-z.?!,]', '')\n",
        "  # Add spaces around punctuation.\n",
        "  text = tf.strings.regex_replace(text, '[.?!,]', r' \\0 ')\n",
        "  # Strip whitespace.\n",
        "  text = tf.strings.strip(text)\n",
        "\n",
        "  text = tf.strings.join(['[START]', text, '[END]'], separator=' ')\n",
        "  return text"
      ],
      "metadata": {
        "id": "RSvyxgZ4FJQp"
      },
      "execution_count": null,
      "outputs": []
    },
    {
      "cell_type": "code",
      "source": [
        "len_seq_enc = [len(seq) for seq in inp]\n",
        "len_seq_dec = [len(seq) for seq in targ]\n",
        "\n",
        "for percentile in [30, 40, 80, 90]:\n",
        "    print('{} percentile of encoder length sequances = {}'.\n",
        "          format(percentile, np.percentile(len_seq_enc, percentile)))\n",
        "    print('{} percentile of decoder length sequances = {}'.\n",
        "          format(percentile, np.percentile(len_seq_dec, percentile)), end = '\\n\\n')\n",
        "    \n",
        "inp_trimmed, targ_trimmed = [], []\n",
        "\n",
        "MIN_SEQ_LEN = 20\n",
        "MAX_SEQ_LEN = 120\n",
        "\n",
        "for i in range(len(inp)):\n",
        "    if (len(inp[i]) >= MIN_SEQ_LEN and len(inp[i]) <= MAX_SEQ_LEN)\\\n",
        "    and (len(targ[i]) >= MIN_SEQ_LEN and len(targ[i]) <= MAX_SEQ_LEN):\n",
        "        inp_trimmed.append(inp[i])\n",
        "        targ_trimmed.append(targ[i])\n",
        "\n",
        "\n",
        "print(f'sample shape Input = {len(inp_trimmed)}')\n",
        "print(f'sample shape Tragte = {len(targ_trimmed)}')\n"
      ],
      "metadata": {
        "colab": {
          "base_uri": "https://localhost:8080/"
        },
        "id": "s-pEIQ31HeXb",
        "outputId": "17a1c767-abe1-4ce4-b1fa-2dfb11bcb9c1"
      },
      "execution_count": null,
      "outputs": [
        {
          "output_type": "stream",
          "name": "stdout",
          "text": [
            "30 percentile of encoder length sequances = 21.0\n",
            "30 percentile of decoder length sequances = 21.0\n",
            "\n",
            "40 percentile of encoder length sequances = 27.0\n",
            "40 percentile of decoder length sequances = 28.0\n",
            "\n",
            "80 percentile of encoder length sequances = 78.0\n",
            "80 percentile of decoder length sequances = 81.0\n",
            "\n",
            "90 percentile of encoder length sequances = 117.0\n",
            "90 percentile of decoder length sequances = 122.0\n",
            "\n",
            "sample shape Input = 89803\n",
            "sample shape Tragte = 89803\n"
          ]
        }
      ]
    },
    {
      "cell_type": "code",
      "source": [
        "num_samples = 30000\n",
        "\n",
        "result_inp = inp_trimmed[:num_samples]\n",
        "result_targ = targ_trimmed[:num_samples]"
      ],
      "metadata": {
        "id": "t9Hmoyq-Isz_"
      },
      "execution_count": null,
      "outputs": []
    },
    {
      "cell_type": "code",
      "source": [
        "i = randint(0, len(result_inp))\n",
        "print(f'Input example: {result_inp[i]}')\n",
        "print(f'Target example: {result_targ[i]}')"
      ],
      "metadata": {
        "colab": {
          "base_uri": "https://localhost:8080/"
        },
        "id": "SD2nC1OmKPV-",
        "outputId": "9735c84d-fe0d-4d2f-8aff-f9252c9c2fcb"
      },
      "execution_count": null,
      "outputs": [
        {
          "output_type": "stream",
          "name": "stdout",
          "text": [
            "Input example: \"Thunder Road,\" Bruce Springsteen, from Born to Run. \"Smells Like Teen Spirit,\" Nirvana, Nevermind.\n",
            "Target example: Oh no, Rob, that's not obvious enough. Not at all.  Dick, did you hear that?\n"
          ]
        }
      ]
    },
    {
      "cell_type": "code",
      "source": [
        "BUFFER_SIZE = len(inp)\n",
        "BATCH_SIZE = 64\n",
        "\n",
        "dataset = tf.data.Dataset.from_tensor_slices((result_inp, result_targ)).shuffle(BUFFER_SIZE)\n",
        "dataset = dataset.batch(BATCH_SIZE)"
      ],
      "metadata": {
        "id": "u-PwxDGL_R9O"
      },
      "execution_count": null,
      "outputs": []
    },
    {
      "cell_type": "code",
      "source": [
        "i = randint(0, len(inp))\n",
        "example_text = tf.constant(inp[i])\n",
        "\n",
        "print(example_text.numpy())"
      ],
      "metadata": {
        "colab": {
          "base_uri": "https://localhost:8080/"
        },
        "id": "eS4KLpNG_pnh",
        "outputId": "93e514dd-6af0-4bf3-d336-ed1369328f4e"
      },
      "execution_count": null,
      "outputs": [
        {
          "output_type": "stream",
          "name": "stdout",
          "text": [
            "b\"Well, even if I'm not the wolfman, I am crazy enough to do something like that. I mean, here I sit in Leicester Square talking to a corpse. I'm glad to see you, Jack.\"\n"
          ]
        }
      ]
    },
    {
      "cell_type": "code",
      "source": [
        "for example_input_batch, example_target_batch in dataset.take(1):\n",
        "  print(example_input_batch[:5])\n",
        "  print()\n",
        "  print(example_target_batch[:5])\n",
        "  break"
      ],
      "metadata": {
        "colab": {
          "base_uri": "https://localhost:8080/"
        },
        "id": "JoF1lUvT_YfF",
        "outputId": "55530e88-74a4-47f2-d9c8-de73e2ba09ba"
      },
      "execution_count": null,
      "outputs": [
        {
          "output_type": "stream",
          "name": "stdout",
          "text": [
            "tf.Tensor(\n",
            "[b'Vanessa. Shit, you better get out of here.'\n",
            " b'Promise me you will never leave me.' b'What can I do about it?'\n",
            " b'It was very silly.... I would be ashamed to wear it here.'\n",
            " b'I lived there for about nine months.'], shape=(5,), dtype=string)\n",
            "\n",
            "tf.Tensor(\n",
            "[b'Why? What the big deal?' b'I cannot promise you that.'\n",
            " b\"You can't do jack shit... unless you learn your evil powers.\"\n",
            " b'As beautiful as that? What else? Come, tell me.'\n",
            " b'You lived in Japan, when?'], shape=(5,), dtype=string)\n"
          ]
        }
      ]
    },
    {
      "cell_type": "code",
      "source": [
        "print(example_text.numpy().decode())\n",
        "print(tf_lower_and_split_punct(example_text).numpy().decode())"
      ],
      "metadata": {
        "colab": {
          "base_uri": "https://localhost:8080/"
        },
        "id": "oR0EVcSeAGcI",
        "outputId": "5dd4983c-0db4-417b-ab2c-1610db4c46fc"
      },
      "execution_count": null,
      "outputs": [
        {
          "output_type": "stream",
          "name": "stdout",
          "text": [
            "Well, even if I'm not the wolfman, I am crazy enough to do something like that. I mean, here I sit in Leicester Square talking to a corpse. I'm glad to see you, Jack.\n",
            "[START] well ,  even if im not the wolfman ,  i am crazy enough to do something like that .  i mean ,  here i sit in leicester square talking to a corpse .  im glad to see you ,  jack . [END]\n"
          ]
        }
      ]
    },
    {
      "cell_type": "code",
      "source": [
        "MAX_VOCAB_SIZE = 3000\n",
        "\n",
        "text_processor = tf.keras.layers.TextVectorization(\n",
        "    standardize=tf_lower_and_split_punct,\n",
        "    max_tokens=MAX_VOCAB_SIZE)"
      ],
      "metadata": {
        "id": "RgJs_YGeI5EP"
      },
      "execution_count": null,
      "outputs": []
    },
    {
      "cell_type": "code",
      "source": [
        "text_processor.adapt(result_inp)\n",
        "\n",
        "text_processor.get_vocabulary()[1000:1007]"
      ],
      "metadata": {
        "colab": {
          "base_uri": "https://localhost:8080/"
        },
        "id": "nCUcOPuNJOJ8",
        "outputId": "f7bd0e1f-3663-42b3-fa88-284a638590b7"
      },
      "execution_count": null,
      "outputs": [
        {
          "output_type": "execute_result",
          "data": {
            "text/plain": [
              "['taste', 'strong', 'stick', 'station', 'single', 'ring', 'quiet']"
            ]
          },
          "metadata": {},
          "execution_count": 87
        }
      ]
    },
    {
      "cell_type": "code",
      "source": [
        "example_tokens = text_processor(example_input_batch)\n",
        "example_tokens[:3, :10]"
      ],
      "metadata": {
        "colab": {
          "base_uri": "https://localhost:8080/"
        },
        "id": "rlK99LakJnOP",
        "outputId": "91176688-2402-4ff1-d69f-882a3a9c2152"
      },
      "execution_count": null,
      "outputs": [
        {
          "output_type": "execute_result",
          "data": {
            "text/plain": [
              "<tf.Tensor: shape=(3, 10), dtype=int64, numpy=\n",
              "array([[   3,    8,  582,   18,   29,  219,   20, 1792,    2, 1792],\n",
              "       [   3,   75,    5,   47,   22,    1,  358,   17, 1148,    2],\n",
              "       [   3,    9,  177,   38, 1285,   14,   20,   28,    1,  567]])>"
            ]
          },
          "metadata": {},
          "execution_count": 88
        }
      ]
    },
    {
      "cell_type": "code",
      "source": [
        "input_vocab = np.array(text_processor.get_vocabulary())\n",
        "tokens = input_vocab[example_tokens[0].numpy()]\n",
        "' '.join(tokens)"
      ],
      "metadata": {
        "colab": {
          "base_uri": "https://localhost:8080/",
          "height": 35
        },
        "id": "03DqP9HNLY70",
        "outputId": "9c7e6728-e566-4bb9-fc34-5be1a20fdfa7"
      },
      "execution_count": null,
      "outputs": [
        {
          "output_type": "execute_result",
          "data": {
            "text/plain": [
              "'[START] i drive and my name is larry . larry from the states . [END]                                             '"
            ],
            "application/vnd.google.colaboratory.intrinsic+json": {
              "type": "string"
            }
          },
          "metadata": {},
          "execution_count": 89
        }
      ]
    },
    {
      "cell_type": "code",
      "source": [
        "plt.subplot(1, 2, 1)\n",
        "plt.pcolormesh(example_tokens)\n",
        "plt.title('Token IDs')\n",
        "\n",
        "plt.subplot(1, 2, 2)\n",
        "plt.pcolormesh(example_tokens != 0)\n",
        "plt.title('Mask')"
      ],
      "metadata": {
        "colab": {
          "base_uri": "https://localhost:8080/",
          "height": 299
        },
        "id": "Q1ueklCDLfag",
        "outputId": "8a0cde6b-bb97-4da0-fcdf-8405d0d5ee4d"
      },
      "execution_count": null,
      "outputs": [
        {
          "output_type": "execute_result",
          "data": {
            "text/plain": [
              "Text(0.5, 1.0, 'Mask')"
            ]
          },
          "metadata": {},
          "execution_count": 106
        },
        {
          "output_type": "display_data",
          "data": {
            "text/plain": [
              "<Figure size 432x288 with 2 Axes>"
            ],
            "image/png": "[encoded data removed]"
          },
          "metadata": {
            "needs_background": "light"
          }
        }
      ]
    },
    {
      "cell_type": "code",
      "source": [
        "EMB_DIM = 256\n",
        "UNITS = 512"
      ],
      "metadata": {
        "id": "HywxHxYNLwMY"
      },
      "execution_count": null,
      "outputs": []
    },
    {
      "cell_type": "code",
      "source": [
        "class DecoderInput(typing.NamedTuple):\n",
        "    new_tokens: typing.Any\n",
        "    enc_output: typing.Any\n",
        "    mask: typing.Any\n",
        "\n",
        "class DecoderOutput(typing.NamedTuple):\n",
        "    logits: typing.Any\n",
        "    attention_weights: typing.Any\n",
        "\n",
        "\n",
        "class Encoder(tf.keras.layers.Layer):\n",
        "  def __init__(self, input_vocab_size, embedding_dim, enc_units):\n",
        "    super(Encoder, self).__init__()\n",
        "    self.enc_units = enc_units\n",
        "    self.input_vocab_size = input_vocab_size\n",
        "\n",
        "    self.embedding = tf.keras.layers.Embedding(self.input_vocab_size,\n",
        "                                               EMB_DIM)\n",
        "\n",
        "\n",
        "    self.gru = tf.keras.layers.GRU(self.enc_units,\n",
        "                                   return_sequences=True,\n",
        "                                   return_state=True,\n",
        "                                   recurrent_initializer='glorot_uniform')\n",
        "\n",
        "  def call(self, tokens, state=None):\n",
        "\n",
        "    vectors = self.embedding(tokens)\n",
        "\n",
        "    output, state = self.gru(vectors, initial_state=state)\n",
        "\n",
        "    return output, state\n",
        "\n",
        "class BahdanauAttention(tf.keras.layers.Layer):\n",
        "  def __init__(self, units):\n",
        "    super().__init__()\n",
        "\n",
        "    self.W1 = tf.keras.layers.Dense(units, use_bias=False)\n",
        "    self.W2 = tf.keras.layers.Dense(units, use_bias=False)\n",
        "\n",
        "    self.attention = tf.keras.layers.AdditiveAttention()\n",
        "\n",
        "  def call(self, query, value, mask):\n",
        "\n",
        "    w1_query = self.W1(query)\n",
        "\n",
        "    w2_key = self.W2(value)\n",
        "\n",
        "    query_mask = tf.ones(tf.shape(query)[:-1], dtype=bool)\n",
        "    value_mask = mask\n",
        "\n",
        "    context_vector, attention_weights = self.attention(\n",
        "        inputs = [w1_query, value, w2_key],\n",
        "        mask=[query_mask, value_mask],\n",
        "        return_attention_scores = True,\n",
        "    )\n",
        "\n",
        "    return context_vector, attention_weights\n",
        "\n",
        "class Decoder(tf.keras.layers.Layer):\n",
        "\n",
        "  def __init__(self, output_vocab_size, embedding_dim, dec_units):\n",
        "    super(Decoder, self).__init__()\n",
        "    self.dec_units = dec_units\n",
        "    self.output_vocab_size = output_vocab_size\n",
        "    self.embedding_dim = embedding_dim\n",
        "\n",
        "    self.embedding = tf.keras.layers.Embedding(self.output_vocab_size,\n",
        "                                               embedding_dim)\n",
        "\n",
        "    self.gru = tf.keras.layers.GRU(self.dec_units,\n",
        "                                   return_sequences=True,\n",
        "                                   return_state=True,\n",
        "                                   recurrent_initializer='glorot_uniform')\n",
        "\n",
        "    self.attention = BahdanauAttention(self.dec_units)\n",
        "\n",
        "    self.Wc = tf.keras.layers.Dense(dec_units, activation=tf.math.tanh,\n",
        "                                    use_bias=False)\n",
        "\n",
        "    self.fc = tf.keras.layers.Dense(self.output_vocab_size)\n",
        "\n",
        "  def call(self,inputs: DecoderInput,state=None) -> typing.Tuple[DecoderOutput, tf.Tensor]:\n",
        "\n",
        "    vectors = self.embedding(inputs.new_tokens)\n",
        "\n",
        "    rnn_output, state = self.gru(vectors, initial_state=state)\n",
        "\n",
        "    context_vector, attention_weights = self.attention(\n",
        "        query=rnn_output, value=inputs.enc_output, mask=inputs.mask)\n",
        "\n",
        "    context_and_rnn_output = tf.concat([context_vector, rnn_output], axis=-1)\n",
        "\n",
        "    attention_vector = self.Wc(context_and_rnn_output)\n",
        "\n",
        "    logits = self.fc(attention_vector)\n",
        "\n",
        "    return DecoderOutput(logits, attention_weights), state\n",
        "\n"
      ],
      "metadata": {
        "id": "50N9qHAwLxDL"
      },
      "execution_count": null,
      "outputs": []
    },
    {
      "cell_type": "code",
      "source": [
        "class MaskedLoss(tf.keras.losses.Loss):\n",
        "  def __init__(self):\n",
        "    self.loss = tf.keras.losses.SparseCategoricalCrossentropy(\n",
        "        from_logits=True, reduction='none')\n",
        "\n",
        "  def __call__(self, y_true, y_pred):\n",
        "\n",
        "    loss = self.loss(y_true, y_pred)\n",
        "    \n",
        "    mask = tf.cast(y_true != 0, tf.float32)\n",
        "\n",
        "    loss *= mask\n",
        "    \n",
        "    return tf.reduce_sum(loss)"
      ],
      "metadata": {
        "id": "LQCiNno5zIp_"
      },
      "execution_count": null,
      "outputs": []
    },
    {
      "cell_type": "code",
      "source": [
        "class TrainChatBot(tf.keras.Model):\n",
        "  def __init__(self, embedding_dim, units,\n",
        "               text_processor,\n",
        "               use_tf_function=True):\n",
        "    super().__init__()\n",
        "\n",
        "    encoder = Encoder(text_processor.vocabulary_size(),\n",
        "                      embedding_dim, units)\n",
        "    decoder = Decoder(text_processor.vocabulary_size(),\n",
        "                      embedding_dim, units)\n",
        "\n",
        "    self.encoder = encoder\n",
        "    self.decoder = decoder\n",
        "    self.text_processor = text_processor\n",
        "    self.use_tf_function = use_tf_function\n",
        "\n",
        "  def train_step(self, inputs):\n",
        "    if self.use_tf_function:\n",
        "      return self._tf_train_step(inputs)\n",
        "    else:\n",
        "      return self._train_step(inputs)\n",
        "\n",
        "  @tf.function(input_signature=[[tf.TensorSpec(dtype=tf.string, shape=[None]),\n",
        "                               tf.TensorSpec(dtype=tf.string, shape=[None])]])\n",
        "  def _tf_train_step(self, inputs):\n",
        "    return self._train_step(inputs)\n",
        "\n",
        "  def _preprocess(self, input_text, target_text):\n",
        "\n",
        "\n",
        "    input_tokens = self.text_processor(input_text)\n",
        "    target_tokens = self.text_processor(target_text)\n",
        "\n",
        "    input_mask = (input_tokens != 0)\n",
        "\n",
        "    target_mask = (target_tokens != 0)\n",
        "\n",
        "    return input_tokens, input_mask, target_tokens, target_mask\n",
        "\n",
        "  def _train_step(self, inputs):\n",
        "    input_text, target_text = inputs  \n",
        "\n",
        "    (input_tokens, input_mask,\n",
        "    target_tokens, target_mask) = self._preprocess(input_text, target_text)\n",
        "\n",
        "    max_target_length = tf.shape(target_tokens)[1]\n",
        "\n",
        "    with tf.GradientTape() as tape:\n",
        "\n",
        "      enc_output, enc_state = self.encoder(input_tokens)\n",
        "\n",
        "      dec_state = enc_state\n",
        "      loss = tf.constant(0.0)\n",
        "\n",
        "      for t in tf.range(max_target_length-1):\n",
        "\n",
        "        new_tokens = target_tokens[:, t:t+2]\n",
        "        step_loss, dec_state = self._loop_step(new_tokens, input_mask,\n",
        "                                              enc_output, dec_state)\n",
        "        loss = loss + step_loss\n",
        "\n",
        "      average_loss = loss / tf.reduce_sum(tf.cast(target_mask, tf.float32))\n",
        "\n",
        "    variables = self.trainable_variables \n",
        "    gradients = tape.gradient(average_loss, variables)\n",
        "    self.optimizer.apply_gradients(zip(gradients, variables))\n",
        "\n",
        "    return {'batch_loss': average_loss}\n",
        "\n",
        "  def _loop_step(self, new_tokens, input_mask, enc_output, dec_state):\n",
        "    input_token, target_token = new_tokens[:, 0:1], new_tokens[:, 1:2]\n",
        "\n",
        "    decoder_input = DecoderInput(new_tokens=input_token,\n",
        "                                enc_output=enc_output,\n",
        "                                mask=input_mask)\n",
        "\n",
        "    dec_result, dec_state = self.decoder(decoder_input, state=dec_state)\n",
        "\n",
        "    y = target_token\n",
        "    y_pred = dec_result.logits\n",
        "    step_loss = self.loss(y, y_pred)\n",
        "\n",
        "    return step_loss, dec_state"
      ],
      "metadata": {
        "id": "NH3zEAAbzjs4"
      },
      "execution_count": null,
      "outputs": []
    },
    {
      "cell_type": "code",
      "source": [
        "ChatBot = TrainChatBot(\n",
        "    EMB_DIM, UNITS,\n",
        "    text_processor=text_processor,\n",
        "    use_tf_function=True)\n",
        "\n",
        "ChatBot.compile(\n",
        "    optimizer=tf.optimizers.Adam(),\n",
        "    loss=MaskedLoss(),\n",
        ")"
      ],
      "metadata": {
        "id": "jR2EsJKp1Mgv"
      },
      "execution_count": null,
      "outputs": []
    },
    {
      "cell_type": "code",
      "source": [
        "class BatchLogs(tf.keras.callbacks.Callback):\n",
        "  def __init__(self, key):\n",
        "    self.key = key\n",
        "    self.logs = []\n",
        "\n",
        "  def on_train_batch_end(self, n, logs):\n",
        "    self.logs.append(logs[self.key])\n",
        "\n",
        "batch_loss = BatchLogs('batch_loss')"
      ],
      "metadata": {
        "id": "ft_qoFUn5sNd"
      },
      "execution_count": null,
      "outputs": []
    },
    {
      "cell_type": "code",
      "source": [
        "ChatBot.fit(dataset, epochs = 3, callbacks = [batch_loss])"
      ],
      "metadata": {
        "colab": {
          "base_uri": "https://localhost:8080/"
        },
        "id": "RSdotTaA_Eph",
        "outputId": "ea96446e-5c05-44b0-b384-8427e8c9b62d"
      },
      "execution_count": null,
      "outputs": [
        {
          "output_type": "stream",
          "name": "stdout",
          "text": [
            "Epoch 1/3\n",
            "469/469 [==============================] - 1781s 4s/step - batch_loss: 4.5046\n",
            "Epoch 2/3\n",
            "469/469 [==============================] - 1786s 4s/step - batch_loss: 3.8957\n",
            "Epoch 3/3\n",
            "469/469 [==============================] - 1670s 4s/step - batch_loss: 3.6441\n"
          ]
        },
        {
          "output_type": "execute_result",
          "data": {
            "text/plain": [
              "<keras.callbacks.History at 0x7f50bdb28290>"
            ]
          },
          "metadata": {},
          "execution_count": 115
        }
      ]
    },
    {
      "cell_type": "code",
      "source": [
        "class ChatBotAnsw(tf.Module):\n",
        "\n",
        "  def __init__(self, encoder, decoder, text_processor):\n",
        "    self.encoder = encoder\n",
        "    self.decoder = decoder\n",
        "    self.text_processor = text_processor\n",
        "\n",
        "    self.output_token_string_from_index = (\n",
        "        tf.keras.layers.StringLookup(\n",
        "            vocabulary=text_processor.get_vocabulary(),\n",
        "            mask_token='',\n",
        "            invert=True))\n",
        "\n",
        "    index_from_string = tf.keras.layers.StringLookup(\n",
        "        vocabulary=text_processor.get_vocabulary(), mask_token='')\n",
        "    token_mask_ids = index_from_string(['', '[UNK]', '[START]']).numpy()\n",
        "\n",
        "    token_mask = np.zeros([index_from_string.vocabulary_size()], dtype=np.bool)\n",
        "    token_mask[np.array(token_mask_ids)] = True\n",
        "\n",
        "    self.token_mask = token_mask\n",
        "\n",
        "    self.start_token = index_from_string(tf.constant('[START]'))\n",
        "    self.end_token = index_from_string(tf.constant('[END]'))\n",
        "\n",
        "  def tokens_to_text(self, result_tokens):\n",
        "\n",
        "    result_text_tokens = self.output_token_string_from_index(result_tokens)\n",
        "    result_text = tf.strings.reduce_join(result_text_tokens,\n",
        "                                        axis=1, separator=' ')\n",
        "    result_text = tf.strings.strip(result_text)\n",
        "    return result_text\n",
        "\n",
        "  def sample(self, logits, temperature):\n",
        "\n",
        "    token_mask = self.token_mask[tf.newaxis, tf.newaxis, :]\n",
        "    logits = tf.where(self.token_mask, -np.inf, logits)\n",
        "    if temperature == 0.0:\n",
        "      new_tokens = tf.argmax(logits, axis=-1)\n",
        "    else: \n",
        "      logits = tf.squeeze(logits, axis=1)\n",
        "      new_tokens = tf.random.categorical(logits/temperature,\n",
        "                                          num_samples=1)\n",
        "    return new_tokens\n",
        "\n",
        "  @tf.function(input_signature=[tf.TensorSpec(dtype=tf.string, shape=[None])])  \n",
        "  def get_answer(self,\n",
        "                       input_text, *,\n",
        "                       max_length=50,\n",
        "                       return_attention=True,\n",
        "                       temperature=1.0):\n",
        "    batch_size = tf.shape(input_text)[0]\n",
        "    input_tokens = self.text_processor(input_text)\n",
        "    enc_output, enc_state = self.encoder(input_tokens)\n",
        "\n",
        "    dec_state = enc_state\n",
        "    new_tokens = tf.fill([batch_size, 1], self.start_token)\n",
        "\n",
        "    result_tokens = []\n",
        "    attention = []\n",
        "    done = tf.zeros([batch_size, 1], dtype=tf.bool)\n",
        "\n",
        "    for _ in range(max_length):\n",
        "      dec_input = DecoderInput(new_tokens=new_tokens,\n",
        "                              enc_output=enc_output,\n",
        "                              mask=(input_tokens!=0))\n",
        "\n",
        "      dec_result, dec_state = self.decoder(dec_input, state=dec_state)\n",
        "\n",
        "      attention.append(dec_result.attention_weights)\n",
        "\n",
        "      new_tokens = self.sample(dec_result.logits, temperature)\n",
        "\n",
        "      done = done | (new_tokens == self.end_token)\n",
        "\n",
        "      new_tokens = tf.where(done, tf.constant(0, dtype=tf.int64), new_tokens)\n",
        "\n",
        "      result_tokens.append(new_tokens)\n",
        "\n",
        "      if tf.executing_eagerly() and tf.reduce_all(done):\n",
        "        break\n",
        "\n",
        "    result_tokens = tf.concat(result_tokens, axis=-1)\n",
        "    result_text = self.tokens_to_text(result_tokens)\n",
        "\n",
        "    if return_attention:\n",
        "      attention_stack = tf.concat(attention, axis=1)\n",
        "      return { 'text': result_text, 'attention': attention_stack}\n",
        "    else:\n",
        "      return {'text': result_text}\n",
        "\n",
        "\n",
        "  "
      ],
      "metadata": {
        "id": "-aF7EaLWA0LW"
      },
      "execution_count": null,
      "outputs": []
    },
    {
      "cell_type": "code",
      "source": [
        "simple_input = tf.constant(result_inp[:5])\n",
        "simple_target = tf.constant(result_targ[:5])\n",
        "\n",
        "\n",
        "\n",
        "\n",
        "chatbotansw = ChatBotAnsw(\n",
        "    encoder=ChatBot.encoder,\n",
        "    decoder=ChatBot.decoder,\n",
        "    text_processor=text_processor,\n",
        ")\n",
        "\n",
        "ans = chatbotansw.get_answer(input_text = simple_input, )\n",
        "\n",
        "for i in range(simple_input.shape[0]):\n",
        "  print(f'\\nInput text: {simple_input[i]}')\n",
        "  print(f\"ChatBot`s answer text: {ans['text'][i]}\")\n",
        "  print(f\"Tareget text : {simple_target[i]}\",\n",
        "        end = '\\n\\n=====================================================================\\n\\n')\n"
      ],
      "metadata": {
        "colab": {
          "base_uri": "https://localhost:8080/"
        },
        "id": "iMzM7Tx0LdOt",
        "outputId": "ab1683a5-212a-4fd4-a150-78965a67f647"
      },
      "execution_count": null,
      "outputs": [
        {
          "output_type": "stream",
          "name": "stderr",
          "text": [
            "/usr/local/lib/python3.7/dist-packages/ipykernel_launcher.py:18: DeprecationWarning: `np.bool` is a deprecated alias for the builtin `bool`. To silence this warning, use `bool` by itself. Doing this will not modify any behavior and is safe. If you specifically wanted the numpy scalar type, use `np.bool_` here.\n",
            "Deprecated in NumPy 1.20; for more details and guidance: https://numpy.org/devdocs/release/1.20.0-notes.html#deprecations\n"
          ]
        },
        {
          "output_type": "stream",
          "name": "stdout",
          "text": [
            "WARNING:tensorflow:5 out of the last 6 calls to <function ChatBotAnsw.get_answer at 0x7f50c2513170> triggered tf.function retracing. Tracing is expensive and the excessive number of tracings could be due to (1) creating @tf.function repeatedly in a loop, (2) passing tensors with different shapes, (3) passing Python objects instead of tensors. For (1), please define your @tf.function outside of the loop. For (2), @tf.function has reduce_retracing=True option that can avoid unnecessary retracing. For (3), please refer to https://www.tensorflow.org/guide/function#controlling_retracing and https://www.tensorflow.org/api_docs/python/tf/function for  more details.\n",
            "\n",
            "Input text: b\"Well, I thought we'd start with pronunciation, if that's okay with you.\"\n",
            "ChatBot`s answer text: b'what did you name ?'\n",
            "Tareget text : b'Not the hacking and gagging and spitting part.  Please.'\n",
            "\n",
            "=====================================================================\n",
            "\n",
            "\n",
            "Input text: b'Not the hacking and gagging and spitting part.  Please.'\n",
            "ChatBot`s answer text: b'youll call me wrong , there . wheres in here ?'\n",
            "Tareget text : b\"Okay... then how 'bout we try out some French cuisine.  Saturday?  Night?\"\n",
            "\n",
            "=====================================================================\n",
            "\n",
            "\n",
            "Input text: b'Gosh, if only we could find Kat a boyfriend...'\n",
            "ChatBot`s answer text: b'didnt go across best . thats why you mind now ?'\n",
            "Tareget text : b'Let me see what I can do.'\n",
            "\n",
            "=====================================================================\n",
            "\n",
            "\n",
            "Input text: b\"C'esc ma tete. This is my head\"\n",
            "ChatBot`s answer text: b'nothing away will make later any choice , you know so tell you , i called . see im not going to promise .'\n",
            "Tareget text : b\"Right.  See?  You're ready for the quiz.\"\n",
            "\n",
            "=====================================================================\n",
            "\n",
            "\n",
            "Input text: b'How is our little Find the Wench A Date plan progressing?'\n",
            "ChatBot`s answer text: b'you should follow me , would you if these are not so important .'\n",
            "Tareget text : b\"Well, there's someone I think might be --\"\n",
            "\n",
            "=====================================================================\n",
            "\n"
          ]
        }
      ]
    },
    {
      "cell_type": "code",
      "source": [
        "ChatBot.save_weights('/content/drive/MyDrive/ChatBot with attention/', save_format = 'tf')"
      ],
      "metadata": {
        "id": "tVPB0DDJetBG"
      },
      "execution_count": null,
      "outputs": []
    }
  ]
}